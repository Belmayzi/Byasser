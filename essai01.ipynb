{
  "nbformat": 4,
  "nbformat_minor": 0,
  "metadata": {
    "kernelspec": {
      "display_name": "Python 3",
      "language": "python",
      "name": "python3"
    },
    "language_info": {
      "codemirror_mode": {
        "name": "ipython",
        "version": 3
      },
      "file_extension": ".py",
      "mimetype": "text/x-python",
      "name": "python",
      "nbconvert_exporter": "python",
      "pygments_lexer": "ipython3",
      "version": "3.7.6"
    },
    "colab": {
      "name": "essai1.ipynb",
      "provenance": [],
      "collapsed_sections": [],
      "toc_visible": true,
      "include_colab_link": true
    }
  },
  "cells": [
    {
      "cell_type": "markdown",
      "metadata": {
        "id": "view-in-github",
        "colab_type": "text"
      },
      "source": [
        "<a href=\"https://colab.research.google.com/github/Belmayzi/Byasser/blob/Tm-miniprojet/essai01.ipynb\" target=\"_parent\"><img src=\"https://colab.research.google.com/assets/colab-badge.svg\" alt=\"Open In Colab\"/></a>"
      ]
    },
    {
      "cell_type": "code",
      "metadata": {
        "id": "kihWRawXwS9e",
        "colab_type": "code",
        "outputId": "4f6d39ff-32a8-446f-c802-9250386a2349",
        "colab": {
          "base_uri": "https://localhost:8080/",
          "height": 51
        }
      },
      "source": [
        "#Données\n",
        "T=313.13\n",
        "r=[1.4311, 0.92]\n",
        "q=[1.432, 1.4 ]\n",
        "h=float(input('donnez Xa'))\n",
        "x=[h,1-h]\n",
        "D_ab=2.10*10**(-5)\n",
        "D_ba=2.67*10**(-5)\n",
        "a_ab=float(input('val initial de a_ab'))\n",
        "a_ba=float(input('val initial de a_ba'))\n",
        "a=[[0,a_ab],[a_ba,0]]\n",
        "            "
      ],
      "execution_count": 0,
      "outputs": [
        {
          "output_type": "stream",
          "text": [
            "val initial de a_ab0.1\n",
            "val initial de a_ba0.15\n"
          ],
          "name": "stdout"
        }
      ]
    },
    {
      "cell_type": "code",
      "metadata": {
        "id": "nmGNASbDwS9p",
        "colab_type": "code",
        "colab": {}
      },
      "source": [
        "#calcul des teta, phi...\n",
        "from math import exp\n",
        "la=[la**(1/3) for la in r]\n",
        "phi=[x[i]*la[i]/(x[0]*la[0]+x[1]*la[1]) for i in range(0,len(x))]\n",
        "Oi=[x[i]*q[i]/(x[0]*q[0]+x[1]*q[1]) for i in range(0,len(x))]\n",
        "to=[[exp(-a[0][i]/T) for i in range(0,len(x))],\\\n",
        "    [exp(-a[1][i]/T) for i in range(0,len(x))] ]\n",
        "teta=[[Oi[i]*to[0][i]/(Oi[0]*to[0][0]+Oi[1]*to[0][1])for i in range(len(x))],\\\n",
        "      [Oi[i]*to[1][i]/(Oi[0]*to[1][0]+Oi[1]*to[1][1])for i in range(len(x))]]"
      ],
      "execution_count": 0,
      "outputs": []
    },
    {
      "cell_type": "code",
      "metadata": {
        "id": "2UGT8DxFwS9x",
        "colab_type": "code",
        "colab": {}
      },
      "source": [
        "#calcul de Dab\n",
        "from math import log,exp\n",
        "I=x[0]*log(x[0]/phi[0])+x[1]*log(x[1]/phi[1])\n",
        "II=(phi[0]/x[0])*(1-la[0]/la[1])+(phi[1]/x[1])*(1-la[1]/la[0])\n",
        "III=(1-teta[1][0]**2)*log(to[1][0])+(1-teta[1][1]**2)*to[0][1]*log(to[0][1])\n",
        "IV=(1-teta[0][1]**2)*log(to[0][1])+(1-teta[0][0]**2)*to[1][0]*log(to[1][0])\n",
        "\n",
        "lnDab=x[1]*log(D_ab)+x[0]*log(D_ba)+2*I+2*x[0]*x[1]*II+x[1]*q[0]*III+x[0]*q[1]*IV\n",
        "Dab=exp(lnDab)"
      ],
      "execution_count": 0,
      "outputs": []
    },
    {
      "cell_type": "code",
      "metadata": {
        "id": "mZoRq4iewS92",
        "colab_type": "code",
        "colab": {}
      },
      "source": [
        "#boucle de réestimation des paramètres \n",
        "from scipy.optimize import minimize\n",
        "def objective(s):\n",
        "    a_ab=s[0]\n",
        "    a_ba=s[1]\n",
        "    return Dab-1.33*10**(-5)\n"
      ],
      "execution_count": 0,
      "outputs": []
    },
    {
      "cell_type": "code",
      "metadata": {
        "id": "XyL36chswS98",
        "colab_type": "code",
        "outputId": "8419106a-5ed6-444e-aac1-75930e6a2b6f",
        "colab": {}
      },
      "source": [
        "s0=[0.1,0.5]\n",
        "print(objective(s0))"
      ],
      "execution_count": 0,
      "outputs": [
        {
          "output_type": "stream",
          "text": [
            "9.14179743033373e-06\n"
          ],
          "name": "stdout"
        }
      ]
    },
    {
      "cell_type": "code",
      "metadata": {
        "id": "P07upbxPwS-B",
        "colab_type": "code",
        "colab": {}
      },
      "source": [
        "\n",
        "#b=(0,1000)\n",
        "#bnds=(b,b)\n",
        "#sol = minimize(objective,s0,method='L-BFGS-B',bounds=bnds)"
      ],
      "execution_count": 0,
      "outputs": []
    },
    {
      "cell_type": "code",
      "metadata": {
        "id": "ZMcmGLALwS-H",
        "colab_type": "code",
        "outputId": "12ca7a7f-deba-40b8-e16e-ad8c54b10b73",
        "colab": {}
      },
      "source": [
        "sol"
      ],
      "execution_count": 0,
      "outputs": [
        {
          "output_type": "execute_result",
          "data": {
            "text/plain": [
              "      fun: 9.14179743033373e-06\n",
              " hess_inv: <2x2 LbfgsInvHessProduct with dtype=float64>\n",
              "      jac: array([0., 0.])\n",
              "  message: b'CONVERGENCE: NORM_OF_PROJECTED_GRADIENT_<=_PGTOL'\n",
              "     nfev: 3\n",
              "      nit: 0\n",
              "   status: 0\n",
              "  success: True\n",
              "        x: array([1. , 0.5])"
            ]
          },
          "metadata": {
            "tags": []
          },
          "execution_count": 112
        }
      ]
    }
  ]
}