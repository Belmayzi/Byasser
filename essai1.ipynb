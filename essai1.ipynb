{
 "cells": [
  {
   "cell_type": "code",
   "execution_count": 99,
   "metadata": {},
   "outputs": [
    {
     "name": "stdout",
     "output_type": "stream",
     "text": [
      "val initial de a_ab0.02\n",
      "val initial de a_ba0.6\n"
     ]
    }
   ],
   "source": [
    "#Données\n",
    "T=313.13\n",
    "r=[1.4311, 0.92]\n",
    "q=[1.432, 1.4 ]\n",
    "h=0.35\n",
    "x=[h,1-h]\n",
    "D_ab=2.10*10**(-5)\n",
    "D_ba=2.67*10**(-5)\n",
    "a_ab=float(input('val initial de a_ab'))\n",
    "a_ba=float(input('val initial de a_ba'))\n",
    "a=[[0,a_ab],[a_ba,0]]\n",
    "            "
   ]
  },
  {
   "cell_type": "code",
   "execution_count": 107,
   "metadata": {},
   "outputs": [],
   "source": [
    "#calcul des teta, phi...\n",
    "from math import exp\n",
    "la=[la**(1/3) for la in r]\n",
    "phi=[x[i]*la[i]/(x[0]*la[0]+x[1]*la[1]) for i in range(0,len(x))]\n",
    "Oi=[x[i]*q[i]/(x[0]*q[0]+x[1]*q[1]) for i in range(0,len(x))]\n",
    "to=[[exp(-a[0][i]/T) for i in range(0,len(x))],\\\n",
    "    [exp(-a[1][i]/T) for i in range(0,len(x))] ]\n",
    "teta=[[Oi[i]*to[0][i]/(Oi[0]*to[0][0]+Oi[1]*to[0][1])for i in range(len(x))],\\\n",
    "      [Oi[i]*to[1][i]/(Oi[0]*to[1][0]+Oi[1]*to[1][1])for i in range(len(x))]]"
   ]
  },
  {
   "cell_type": "code",
   "execution_count": 108,
   "metadata": {},
   "outputs": [],
   "source": [
    "#calcul de Dab\n",
    "from math import log,exp\n",
    "I=x[0]*log(x[0]/phi[0])+x[1]*log(x[1]/phi[1])\n",
    "II=(phi[0]/x[0])*(1-la[0]/la[1])+(phi[1]/x[1])*(1-la[1]/la[0])\n",
    "III=(1-teta[1][0]**2)*log(to[1][0])+(1-teta[1][1]**2)*to[0][1]*log(to[0][1])\n",
    "IV=(1-teta[0][1]**2)*log(to[0][1])+(1-teta[0][0]**2)*to[1][0]*log(to[1][0])\n",
    "\n",
    "lnDab=x[1]*log(D_ab)+x[0]*log(D_ba)+2*I+2*x[0]*x[1]*II+x[1]*q[0]*III+x[0]*q[1]*IV\n",
    "Dab=exp(lnDab)"
   ]
  },
  {
   "cell_type": "code",
   "execution_count": 109,
   "metadata": {},
   "outputs": [],
   "source": [
    "#boucle de réestimation des paramètres \n",
    "from scipy.optimize import minimize\n",
    "def objective(s):\n",
    "    a_ab=s[0]\n",
    "    a_ba=s[1]\n",
    "    return Dab-1.33*10**(-5)\n"
   ]
  },
  {
   "cell_type": "code",
   "execution_count": 110,
   "metadata": {},
   "outputs": [
    {
     "name": "stdout",
     "output_type": "stream",
     "text": [
      "9.14179743033373e-06\n"
     ]
    }
   ],
   "source": [
    "s0=[1,0.5]\n",
    "print(objective(s0))"
   ]
  },
  {
   "cell_type": "code",
   "execution_count": 111,
   "metadata": {},
   "outputs": [],
   "source": [
    "b=(0,1000)\n",
    "bnds=(b,b)\n",
    "sol = minimize(objective,s0,method='L-BFGS-B',bounds=bnds)"
   ]
  },
  {
   "cell_type": "code",
   "execution_count": 112,
   "metadata": {},
   "outputs": [
    {
     "data": {
      "text/plain": [
       "      fun: 9.14179743033373e-06\n",
       " hess_inv: <2x2 LbfgsInvHessProduct with dtype=float64>\n",
       "      jac: array([0., 0.])\n",
       "  message: b'CONVERGENCE: NORM_OF_PROJECTED_GRADIENT_<=_PGTOL'\n",
       "     nfev: 3\n",
       "      nit: 0\n",
       "   status: 0\n",
       "  success: True\n",
       "        x: array([1. , 0.5])"
      ]
     },
     "execution_count": 112,
     "metadata": {},
     "output_type": "execute_result"
    }
   ],
   "source": [
    "sol"
   ]
  },
  {
   "cell_type": "code",
   "execution_count": 113,
   "metadata": {},
   "outputs": [
    {
     "data": {
      "text/plain": [
       "2.244179743033373e-05"
      ]
     },
     "execution_count": 113,
     "metadata": {},
     "output_type": "execute_result"
    }
   ],
   "source": [
    "Dab"
   ]
  },
  {
   "cell_type": "code",
   "execution_count": null,
   "metadata": {},
   "outputs": [],
   "source": []
  }
 ],
 "metadata": {
  "kernelspec": {
   "display_name": "Python 3",
   "language": "python",
   "name": "python3"
  },
  "language_info": {
   "codemirror_mode": {
    "name": "ipython",
    "version": 3
   },
   "file_extension": ".py",
   "mimetype": "text/x-python",
   "name": "python",
   "nbconvert_exporter": "python",
   "pygments_lexer": "ipython3",
   "version": "3.7.6"
  }
 },
 "nbformat": 4,
 "nbformat_minor": 4
}
